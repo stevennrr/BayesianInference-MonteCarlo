{
 "cells": [
  {
   "cell_type": "markdown",
   "id": "a5ba6d44",
   "metadata": {},
   "source": [
    "# QUESTION 1 \n",
    "\n",
    "Part a and b done at beginning of PDF (written on iPad)"
   ]
  },
  {
   "cell_type": "code",
   "execution_count": 1,
   "id": "813f7ab1",
   "metadata": {},
   "outputs": [],
   "source": [
    "import numpy as np\n",
    "from scipy.integrate import trapz, cumtrapz\n",
    "from scipy.special import factorial\n",
    "import matplotlib\n",
    "import matplotlib.pyplot as plt"
   ]
  },
  {
   "cell_type": "markdown",
   "id": "eedc6163",
   "metadata": {},
   "source": [
    "Here I define my likelihood, prior and posterior. "
   ]
  },
  {
   "cell_type": "markdown",
   "id": "02345527",
   "metadata": {},
   "source": [
    "## Question 1c)"
   ]
  },
  {
   "cell_type": "code",
   "execution_count": 2,
   "id": "e0965571",
   "metadata": {},
   "outputs": [],
   "source": [
    "def likelihood(S, N=50):\n",
    "    A = 10\n",
    "    S_mean = A*S\n",
    "    return (np.exp(-S_mean))*((S_mean)**N)/factorial(N)\n",
    "\n",
    "def prior(S):\n",
    "    return (1/S*np.log10(100))\n",
    "\n",
    "def posterior(S):\n",
    "    return prior(S)*likelihood(S) "
   ]
  },
  {
   "cell_type": "markdown",
   "id": "30f5d636",
   "metadata": {},
   "source": [
    "The calculation of the evidence is performed in the following cell where i have defined a range of values that S can take and used the trapezium rule to integrate over these values."
   ]
  },
  {
   "cell_type": "code",
   "execution_count": 3,
   "id": "654bbf7f",
   "metadata": {},
   "outputs": [
    {
     "name": "stdout",
     "output_type": "stream",
     "text": [
      "0.03999999950341349\n",
      "Smax = 4.900000000000004\n"
     ]
    },
    {
     "data": {
      "image/png": "[encoded data removed]",
      "text/plain": [
       "<Figure size 432x288 with 1 Axes>"
      ]
     },
     "metadata": {
      "needs_background": "light"
     },
     "output_type": "display_data"
    },
    {
     "name": "stdout",
     "output_type": "stream",
     "text": [
      "Mean = 4.99999993569581\n"
     ]
    }
   ],
   "source": [
    "ds = 0.01\n",
    "Svalues = np.arange(1., 10., ds)\n",
    "postvalues = posterior(Svalues)\n",
    "Z = np.trapz(postvalues, x=Svalues)\n",
    "\n",
    "print(Z)\n",
    "plt.plot(Svalues, postvalues/Z, 'b-')\n",
    "\n",
    "plt.xlabel(\"S [deg-2]\")\n",
    "plt.ylabel(\"Posterior [deg2]\")\n",
    "max_y = max(postvalues/Z)  # Find the maximum y value\n",
    "max_x = Svalues[(postvalues/Z).argmax()]  # Find the x value corresponding to the maximum y value\n",
    "print('Smax =', max_x)\n",
    "plt.axvline(x = max_x, color = 'r', label = 'L0max')\n",
    "plt.show()\n",
    "mean = np.trapz(Svalues*postvalues/Z, x=Svalues)\n",
    "print(\"Mean =\", mean)"
   ]
  },
  {
   "cell_type": "markdown",
   "id": "eae3063f",
   "metadata": {},
   "source": [
    "## Question 1d)"
   ]
  },
  {
   "cell_type": "markdown",
   "id": "18aaa78a",
   "metadata": {},
   "source": [
    "The following cell Calculates the uncertanty of our measurement outside of our 90% central data - i have calcualted the 5% percentile and the 95% percentile.\n",
    "The values of these are the limits of the error and the difference in these values from the mean is the error.\n",
    "Using the cumtrapz module (inbuilt in Scipy) allows me to find the cumulutive value of the integration up to a the required percentile."
   ]
  },
  {
   "cell_type": "code",
   "execution_count": 4,
   "id": "9d355e29",
   "metadata": {},
   "outputs": [
    {
     "name": "stdout",
     "output_type": "stream",
     "text": [
      "Upper bound of the first survey =  [6.2]\n",
      "Lower bound of the first survey =  [3.88]\n"
     ]
    }
   ],
   "source": [
    "cum_p = cumtrapz(postvalues*ds/Z)\n",
    "sign_u = np.sign(cum_p-0.95)\n",
    "#print(sign_u)\n",
    "upper = Svalues[np.where(np.diff(sign_u))]\n",
    "print('Upper bound of the first survey = ',upper)\n",
    "\n",
    "sign_l = np.sign(cum_p-0.05)\n",
    "#print(sign_l)\n",
    "lower = Svalues[np.where(np.diff(sign_l))]\n",
    "print('Lower bound of the first survey = ',lower)"
   ]
  },
  {
   "cell_type": "markdown",
   "id": "2187c157",
   "metadata": {},
   "source": [
    "The follow is the finding the difference of the values above from the mean and thus calculating our errors."
   ]
  },
  {
   "cell_type": "code",
   "execution_count": 5,
   "id": "e6657719",
   "metadata": {},
   "outputs": [
    {
     "name": "stdout",
     "output_type": "stream",
     "text": [
      "[1.20000006]\n",
      "[1.11999994]\n"
     ]
    }
   ],
   "source": [
    "Upper_error = upper - mean\n",
    "lower_error = mean - lower\n",
    "print(Upper_error)\n",
    "print(lower_error)"
   ]
  },
  {
   "cell_type": "markdown",
   "id": "8677b97f",
   "metadata": {},
   "source": [
    "Here we see that the uncertainties are: \n",
    "Upper bound -> 5.00+1.20 and\n",
    "Lower bound -> 5.00-1.12"
   ]
  },
  {
   "cell_type": "markdown",
   "id": "91c5c3fb",
   "metadata": {},
   "source": [
    "The following cell Calculates the uncertanty of our measurement outside of our 68% central data - i have calcualted the 16% percentile and the 84% percentile. \n",
    "The values of these are the limits of the error and the difference in these values from the mean is the error.\n",
    "Using the cumtrapz module (inbuilt in Scipy) allows me to find the cumulutive value of the integration up to a the required percentile."
   ]
  },
  {
   "cell_type": "code",
   "execution_count": 6,
   "id": "c8533f10",
   "metadata": {},
   "outputs": [
    {
     "name": "stdout",
     "output_type": "stream",
     "text": [
      "Upper bound of the first survey =  [5.69]\n",
      "Lower bound of the first survey =  [4.28]\n"
     ]
    }
   ],
   "source": [
    "cum_p = cumtrapz(postvalues*ds/Z)\n",
    "sign_u = np.sign(cum_p-0.84)\n",
    "#print(sign_u)\n",
    "upper = Svalues[np.where(np.diff(sign_u))]\n",
    "print('Upper bound of the first survey = ',upper)\n",
    "\n",
    "sign_l = np.sign(cum_p-0.16)\n",
    "#print(sign_l)\n",
    "lower = Svalues[np.where(np.diff(sign_l))]\n",
    "print('Lower bound of the first survey = ',lower)"
   ]
  },
  {
   "cell_type": "markdown",
   "id": "708f8e77",
   "metadata": {},
   "source": [
    "The follow is the finding the difference of the values above from the mean and thus calculating our errors."
   ]
  },
  {
   "cell_type": "code",
   "execution_count": 7,
   "id": "843e4661",
   "metadata": {},
   "outputs": [
    {
     "name": "stdout",
     "output_type": "stream",
     "text": [
      "[0.69000006]\n",
      "[0.71999994]\n"
     ]
    }
   ],
   "source": [
    "Upper_error = upper - mean\n",
    "lower_error = mean - lower\n",
    "print(Upper_error)\n",
    "print(lower_error)"
   ]
  },
  {
   "cell_type": "markdown",
   "id": "7984b470",
   "metadata": {},
   "source": [
    "Here we see that the uncertainties are:\n",
    "Upper bound -> 5.00+0.69 and\n",
    "Lower bound -> 5.00-0.72"
   ]
  },
  {
   "cell_type": "markdown",
   "id": "f529dbf2",
   "metadata": {},
   "source": [
    "I have calculated the errors for both a central percentage of 68% and 90% to present two methods of calculatng uncertainties on our survey."
   ]
  },
  {
   "cell_type": "markdown",
   "id": "8a836089",
   "metadata": {},
   "source": [
    "## Question 1e)"
   ]
  },
  {
   "cell_type": "markdown",
   "id": "0f9e297c",
   "metadata": {},
   "source": [
    "The following cell defines the new posterior of the new data that we are given. \n",
    "I then plot both graphs on the same graph to see the distribution between them both."
   ]
  },
  {
   "cell_type": "code",
   "execution_count": 8,
   "id": "33ee21c5",
   "metadata": {},
   "outputs": [
    {
     "data": {
      "image/png": "[encoded data removed]",
      "text/plain": [
       "<Figure size 432x288 with 1 Axes>"
      ]
     },
     "metadata": {
      "needs_background": "light"
     },
     "output_type": "display_data"
    }
   ],
   "source": [
    "def new_posterior(S, mu=7.7, sig=0.3):\n",
    "    return np.exp(-0.5*((S-mu)/sig)**2)/np.sqrt(2*np.pi*sig**2)\n",
    "\n",
    "new_post_values = new_posterior(Svalues)\n",
    "#print(new_post_values)\n",
    "plt.plot(Svalues, postvalues/Z, 'b-', label='old')\n",
    "plt.plot(Svalues, new_post_values,'g-', label='new')\n",
    "\n",
    "plt.xlabel(\"S [deg-2]\")\n",
    "plt.ylabel(\"Posterior PDF [deg2]\")\n",
    "\n",
    "plt.legend()\n",
    "plt.show()\n"
   ]
  },
  {
   "cell_type": "markdown",
   "id": "39a4e4d7",
   "metadata": {},
   "source": [
    "This cell combines both previous graphs by taking our posterior for our new graph and using it as the prir to find the posterior of both graphs combined.\n",
    "The most probable value of S is now approx. 7.4 which is increase from our previous estimation.\n",
    "This change is due to being supplied with new information (data) from the second survey allowing us to improve our posterior further and thus obtain a better estimate for S."
   ]
  },
  {
   "cell_type": "code",
   "execution_count": 11,
   "id": "3e4479a5",
   "metadata": {},
   "outputs": [
    {
     "name": "stdout",
     "output_type": "stream",
     "text": [
      "0.00040417423344560923\n",
      "Smax = 7.4100000000000055\n"
     ]
    },
    {
     "data": {
      "image/png": "[encoded data removed]",
      "text/plain": [
       "<Figure size 432x288 with 1 Axes>"
      ]
     },
     "metadata": {
      "needs_background": "light"
     },
     "output_type": "display_data"
    },
    {
     "name": "stdout",
     "output_type": "stream",
     "text": [
      "mean = 7.4083472200945195\n"
     ]
    }
   ],
   "source": [
    "#using new posterior as new prior \n",
    "\n",
    "def new_new_posterior(S):\n",
    "    return likelihood(S)*new_posterior(S)\n",
    "\n",
    "values = new_new_posterior(Svalues)\n",
    "z = np.trapz(values, x = Svalues)\n",
    "#print(values)\n",
    "plt.plot(Svalues, values/z,'g-', label='new')\n",
    "print(z)\n",
    "plt.xlabel(\"S [deg-2]\")\n",
    "plt.ylabel('Posterior PDF [deg2]')\n",
    "max_y1 = max(postvalues/Z)  # Find the maximum y value\n",
    "max_x1 = Svalues[(values/Z).argmax()]  # Find the x value corresponding to the maximum y value\n",
    "print('Smax =', max_x1)\n",
    "plt.axvline(x = max_x1, color = 'r', label = 'L0max')\n",
    "plt.show()\n",
    "print(\"mean =\", np.trapz(Svalues*values/z, x=Svalues))"
   ]
  },
  {
   "cell_type": "markdown",
   "id": "268489f8",
   "metadata": {},
   "source": [
    "HOWEVER, it can be argued that this does not give us an accurate answer. The following cell explores the lowest percetile (5%) of the new survey compared to the 95% percentile of the first survey and we see that these values do not lie within one another hence depicting that the value os S = 7.4 is not entirely accurate/fair.\n",
    "\n",
    "We see that the upper bound of the first survey is still less than the lower bound of the second survey thus depicting an inaccurate calculation of S.\n",
    "\n",
    "A reason as to why the two surveys differ greatly is due to more survey data being used in the second survey and thus a more accurate value of the mean is provided. However, their values may differ greatly if the first and second survey perhaps point at different areas of the sky and thus isnt consistent."
   ]
  },
  {
   "cell_type": "code",
   "execution_count": 10,
   "id": "262cd29a",
   "metadata": {},
   "outputs": [
    {
     "data": {
      "image/png": "[encoded data removed]",
      "text/plain": [
       "<Figure size 432x288 with 1 Axes>"
      ]
     },
     "metadata": {
      "needs_background": "light"
     },
     "output_type": "display_data"
    },
    {
     "name": "stdout",
     "output_type": "stream",
     "text": [
      "Upper bound of the old survey = [6.2]\n",
      "Lower bound of the new surey = [6.45]\n"
     ]
    }
   ],
   "source": [
    "plt.plot(Svalues, postvalues/Z, 'b-', label='old')\n",
    "plt.plot(Svalues, new_post_values,'g-', label='new')\n",
    "\n",
    "plt.xlabel(\"S [deg-2]\")\n",
    "plt.ylabel(\"Posterior PDF \")\n",
    "\n",
    "plt.legend()\n",
    "plt.show()\n",
    "\n",
    "cum_postfirstsurvey = cumtrapz(postvalues*ds/Z)\n",
    "\n",
    "sign_upper = np.sign(cum_postfirstsurvey-0.95)\n",
    "#print(sign_l)\n",
    "upperoldsurvey = Svalues[np.where(np.diff(sign_upper))]\n",
    "print('Upper bound of the old survey =' ,upperoldsurvey)\n",
    "\n",
    "cum_postsecondsurvey = cumtrapz(new_post_values*ds/z)\n",
    "\n",
    "sign_lower = np.sign(cum_postsecondsurvey-0.05)\n",
    "#print(sign_l)\n",
    "lowernewsurvey = Svalues[np.where(np.diff(sign_lower))]\n",
    "print('Lower bound of the new surey =', lowernewsurvey)"
   ]
  }
 ],
 "metadata": {
  "kernelspec": {
   "display_name": "Python 3 (ipykernel)",
   "language": "python",
   "name": "python3"
  },
  "language_info": {
   "codemirror_mode": {
    "name": "ipython",
    "version": 3
   },
   "file_extension": ".py",
   "mimetype": "text/x-python",
   "name": "python",
   "nbconvert_exporter": "python",
   "pygments_lexer": "ipython3",
   "version": "3.9.12"
  }
 },
 "nbformat": 4,
 "nbformat_minor": 5
}
